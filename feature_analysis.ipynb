{
 "cells": [
  {
   "cell_type": "code",
   "execution_count": 50,
   "id": "cd97b29a-066a-474f-a60f-18b284d8b91b",
   "metadata": {},
   "outputs": [],
   "source": [
    "import numpy as np\n",
    "import matplotlib.pyplot as plt\n",
    "import os"
   ]
  },
  {
   "cell_type": "code",
   "execution_count": 56,
   "id": "fa8e0ce9-642d-406a-b879-0e9a816bf3d4",
   "metadata": {},
   "outputs": [],
   "source": [
    "features_dir = 'LogRegFeatures'\n",
    "filenames = os.listdir(features_dir)"
   ]
  },
  {
   "cell_type": "code",
   "execution_count": 88,
   "id": "c4d8b142-bf61-49b7-a556-9fb08b01be3a",
   "metadata": {},
   "outputs": [],
   "source": [
    "importances = []\n",
    "\n",
    "for filename in filenames:\n",
    "    path = os.path.join(features_dir, filename)\n",
    "    features = np.load(path) \n",
    "    imps = np.abs(features)\n",
    "    task_name = filename.split('_')[0] \n",
    "    importances.append((task_name, imps))\n",
    "    np.save(f'CatBoostImportances/{task_name}.npy', imps)"
   ]
  },
  {
   "cell_type": "code",
   "execution_count": 86,
   "id": "f2ddfc6d-efaf-4691-a153-a626a627072c",
   "metadata": {},
   "outputs": [],
   "source": [
    "features_dir = 'CatBoostFeatures'\n",
    "filenames = os.listdir(features_dir)"
   ]
  },
  {
   "cell_type": "code",
   "execution_count": 91,
   "id": "59560150-ae18-4844-acc4-67279495ce21",
   "metadata": {},
   "outputs": [],
   "source": [
    "importances = dict(importances)"
   ]
  },
  {
   "cell_type": "code",
   "execution_count": 93,
   "id": "8d0c2ebd-eb90-4514-92ac-b737dfada7fa",
   "metadata": {},
   "outputs": [
    {
     "data": {
      "image/png": "[encoded data removed]",
      "text/plain": [
       "<Figure size 432x288 with 1 Axes>"
      ]
     },
     "metadata": {
      "needs_background": "light"
     },
     "output_type": "display_data"
    }
   ],
   "source": [
    "length_sorted_ids = importances['Length.npy'].argsort()[::-1]\n",
    "plt.barh([str(elem) for elem in length_sorted_ids[:10]], importances['Length.npy'][length_sorted_ids[:10]])\n",
    "plt.show()"
   ]
  },
  {
   "cell_type": "code",
   "execution_count": 11,
   "id": "e123d5f3-66c2-4fe6-afc9-bbe652c6fe71",
   "metadata": {},
   "outputs": [],
   "source": [
    "bigram = np.load('BigramShift_features_imps_logreg.npy')\n",
    "depth = np.load('Depth_features_imps_logreg.npy')\n",
    "length = np.load('Length_features_imps_logreg.npy')\n",
    "tense = np.load('BigramShift_features_imps_logreg.npy')\n",
    "top_const = np.load('TopConstituents_features_imps_logreg.npy')\n",
    "word_content = np.load('WordContent_features_imps_logreg.npy')"
   ]
  },
  {
   "cell_type": "code",
   "execution_count": 55,
   "id": "da0d1458-a124-4c0d-80e2-3967756afef6",
   "metadata": {},
   "outputs": [
    {
     "data": {
      "text/plain": [
       "array([257,  80, 680, 513, 407, 710, 506,  21, 429, 447, 163, 101, 525,\n",
       "       391, 383, 629, 582, 492, 275, 648, 666, 239, 181, 594,  18,  17,\n",
       "       255, 562, 137, 318, 722, 509, 372, 500, 357, 704, 199, 370, 683,\n",
       "       738, 374, 490, 520, 129, 623, 130, 271, 347,  23, 760, 323,  94,\n",
       "        27, 480, 548, 589, 739, 266, 274, 668, 575, 310, 531, 108, 762,\n",
       "        48, 650, 581, 332, 268, 555, 681, 742, 626,   6,  95, 315, 678,\n",
       "       210, 170, 314,  54, 456, 304, 584, 312, 115, 703, 188, 755, 344,\n",
       "       164, 138, 690, 398, 367, 191, 640, 207,  32, 162, 740,  59, 659,\n",
       "       462, 308, 593, 297,  98, 319, 460, 186, 464, 180, 132, 610, 362,\n",
       "        70, 475, 363, 402, 625, 474, 669,  74, 712,  65, 431, 741, 292,\n",
       "        52, 168, 172, 448, 179, 293, 337, 657, 598, 109, 619, 151,  88,\n",
       "       642, 200, 510, 723, 679, 411, 246, 136,   2,  30, 622, 472, 758,\n",
       "       389, 717, 173,  53, 336,  45,  25, 433, 454, 600, 435, 221, 592,\n",
       "       348, 375, 142, 566, 635, 550, 759, 250, 226, 479, 300, 763, 339,\n",
       "       719, 501, 320,  89, 386,  96, 242, 698, 637, 351,  39, 104, 507,\n",
       "       283, 340, 377, 725, 494, 335, 208,   9, 599, 267, 503, 767, 658,\n",
       "       563, 143, 616, 552, 118, 695, 356, 455, 715, 262,  90, 272, 713,\n",
       "       620, 653, 291, 126, 227,  76, 128, 254, 212, 583, 165,  66, 560,\n",
       "       368, 244, 458, 521, 442, 468, 395, 110, 706, 757, 692, 298, 537,\n",
       "        42, 608, 604, 294,  56,  64, 296, 549, 147,  11, 485, 541, 251,\n",
       "       728, 543,  34,  49, 691, 721, 597, 499, 450,  26, 554, 444, 408,\n",
       "       709, 284, 469, 216, 384, 215, 301, 615, 393, 686, 467, 290, 685,\n",
       "       693, 700, 354, 663, 618, 495, 445, 116, 269, 534, 114,  24, 654,\n",
       "       711, 746, 527, 228, 166, 223, 241, 630, 392, 437, 436, 631, 524,\n",
       "       511, 322, 185, 161, 753, 243, 213, 638, 487, 633, 516, 273, 689,\n",
       "       488, 234, 484, 225, 545, 263, 373,  50, 121, 747,  73,  47, 732,\n",
       "       279,  43, 264, 192, 440, 482,  12,  46, 726, 478, 606, 305, 220,\n",
       "       766, 394, 422,  37, 557, 533, 546, 230, 277, 401, 378, 517, 146,\n",
       "       325, 461, 699, 194, 441, 134, 579, 733, 603,  60, 189, 542, 175,\n",
       "       508,  35, 761, 643, 677,  84, 287, 346, 399,  36, 697, 656, 601,\n",
       "       141, 358, 745, 232,  68, 260, 708, 673, 558, 682, 152, 523, 140,\n",
       "       751, 412, 528, 451, 421, 564, 547, 238, 632, 343, 341,  93,  28,\n",
       "       730, 253, 568, 197, 556, 636,  55, 410,  29, 174, 748, 571, 644,\n",
       "       405, 729, 466, 252, 569, 481, 360, 135, 167, 248, 423, 113, 148,\n",
       "       463, 497, 201,  69,  20,  83, 231, 338, 649, 449, 364, 660, 432,\n",
       "       553, 299, 727, 376, 328, 295, 675, 288, 327, 574, 193, 486, 187,\n",
       "       119, 371, 483,  72, 206, 612, 470, 424, 676, 526, 434, 646, 388,\n",
       "       576, 352, 587, 605, 285,  14, 471, 415, 157,  87, 184, 313, 465,\n",
       "       744, 381, 365, 651, 540, 489, 414,  19, 701, 334,  58, 504, 735,\n",
       "       117,  75, 577, 439, 674, 176, 514, 535,  44, 591, 420,  99, 406,\n",
       "       443,  51, 532, 103, 491, 743, 457, 428, 205, 596, 120, 737, 261,\n",
       "       493, 647,   1, 634,   8, 237, 416, 309,  91, 409, 317, 705, 702,\n",
       "       259, 203, 438, 249,   0,  22, 473, 538, 178, 425, 100, 396, 349,\n",
       "       607, 183, 245, 139,  79, 452, 602, 209, 665, 196, 307, 696, 382,\n",
       "       754, 502, 270,  31, 158, 303, 621, 476, 765, 595, 578, 397, 153,\n",
       "       211, 567, 628, 177, 714, 639, 204,  67, 321, 387, 404, 333, 316,\n",
       "       233, 400, 459, 353, 694, 539,   7, 385, 529, 390, 282, 235, 350,\n",
       "       355, 446, 662,   5, 224, 645,  86, 281, 229, 515,  78, 426,   3,\n",
       "       418, 190, 413, 720, 585,  16, 671,  85, 544, 122, 258, 306, 326,\n",
       "       572, 195, 750, 670, 611, 687, 590,  33, 609, 379, 127, 124, 734,\n",
       "       561, 289, 688, 331,  41, 573, 522, 736, 218, 752, 125, 156, 716,\n",
       "       427, 707, 324, 133, 256, 150, 280, 222, 684, 105, 617, 380, 613,\n",
       "       342, 667, 145, 247, 559, 160, 202, 580, 417, 182, 107, 154, 655,\n",
       "        71, 672, 214, 278, 724, 329, 419, 112,  10, 530,  92, 198, 403,\n",
       "       624, 369, 756,  13, 236, 169, 453,  62, 302, 661, 498,  61, 345,\n",
       "       430, 106, 171,  81, 276, 570, 149, 505, 586, 159,   4,  38, 496,\n",
       "       265, 565, 718, 123, 614, 641, 477, 519, 652, 102, 536, 366, 330,\n",
       "       518, 144, 512, 764, 286, 359, 111, 131, 627, 311,  63, 155,  57,\n",
       "       664,  15,  40, 361, 240, 588, 731,  82, 219, 551,  97, 749, 217,\n",
       "        77])"
      ]
     },
     "execution_count": 55,
     "metadata": {},
     "output_type": "execute_result"
    }
   ],
   "source": [
    "np.abs(length).sum(axis=0).argsort()"
   ]
  },
  {
   "cell_type": "code",
   "execution_count": 36,
   "id": "4c0eb57f-6a44-4f82-a6e7-14cc69af2998",
   "metadata": {},
   "outputs": [
    {
     "data": {
      "text/plain": [
       "(1, 768)"
      ]
     },
     "execution_count": 36,
     "metadata": {},
     "output_type": "execute_result"
    }
   ],
   "source": [
    "bigram.shape"
   ]
  },
  {
   "cell_type": "code",
   "execution_count": 22,
   "id": "b6434953-4426-4332-b0e4-62f354f81ee9",
   "metadata": {},
   "outputs": [
    {
     "data": {
      "text/plain": [
       "(array([3.16711645e-001, 4.01626616e-001, 8.23728554e-001, 1.30343777e+000,\n",
       "        1.57354358e+000, 1.17119999e+171, 2.65141232e+180, 2.16209968e+233,\n",
       "        9.92152605e+247, 8.44740097e+252]),\n",
       " array([627,  54, 113,  98, 469,   1,   4,   6,   5,   3]))"
      ]
     },
     "execution_count": 22,
     "metadata": {},
     "output_type": "execute_result"
    }
   ],
   "source": [
    "tense_ids = tense.argsort()\n",
    "tense[tense_ids][-10:], tense_ids[-10:]"
   ]
  },
  {
   "cell_type": "code",
   "execution_count": 23,
   "id": "0387d771-cffd-46e7-9fcc-a5fec022ca1e",
   "metadata": {},
   "outputs": [
    {
     "data": {
      "text/plain": [
       "(array([2.53930507e-001, 3.28620797e-001, 3.51588943e-001, 5.75429417e-001,\n",
       "        6.42948724e-001, 1.17119999e+171, 2.65141232e+180, 2.16209968e+233,\n",
       "        9.92152605e+247, 8.44740097e+252]),\n",
       " array([1448, 2283,  413, 1181, 1629,    1,    4,    6,    5,    3]))"
      ]
     },
     "execution_count": 23,
     "metadata": {},
     "output_type": "execute_result"
    }
   ],
   "source": [
    "depth_ids = depth.argsort()\n",
    "depth[depth_ids][-10:], depth_ids[-10:]"
   ]
  },
  {
   "cell_type": "code",
   "execution_count": null,
   "id": "83871f21-fd88-45e6-9067-472871e13b60",
   "metadata": {},
   "outputs": [],
   "source": []
  },
  {
   "cell_type": "code",
   "execution_count": 38,
   "id": "f7df7ee4-91df-457d-aaca-14c4e7a0cc98",
   "metadata": {},
   "outputs": [
    {
     "data": {
      "image/png": "[encoded data removed]",
      "text/plain": [
       "<Figure size 432x288 with 1 Axes>"
      ]
     },
     "metadata": {
      "needs_background": "light"
     },
     "output_type": "display_data"
    }
   ],
   "source": [
    "plt.plot(bigram[0])\n",
    "plt.show()"
   ]
  }
 ],
 "metadata": {
  "kernelspec": {
   "display_name": "Python 3",
   "language": "python",
   "name": "python3"
  },
  "language_info": {
   "codemirror_mode": {
    "name": "ipython",
    "version": 3
   },
   "file_extension": ".py",
   "mimetype": "text/x-python",
   "name": "python",
   "nbconvert_exporter": "python",
   "pygments_lexer": "ipython3",
   "version": "3.8.12"
  }
 },
 "nbformat": 4,
 "nbformat_minor": 5
}
